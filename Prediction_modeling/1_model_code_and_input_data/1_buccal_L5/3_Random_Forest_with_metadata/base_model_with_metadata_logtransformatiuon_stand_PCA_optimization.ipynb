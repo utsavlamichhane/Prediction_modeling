{
 "cells": [
  {
   "cell_type": "code",
   "execution_count": 4,
   "id": "9e1f9b3a",
   "metadata": {},
   "outputs": [],
   "source": [
    "import pandas as pd\n",
    "import numpy as np\n",
    "from sklearn.model_selection import train_test_split\n",
    "from sklearn.preprocessing import StandardScaler\n",
    "from sklearn.decomposition import PCA\n",
    "from sklearn.ensemble import RandomForestRegressor\n",
    "from sklearn.metrics import mean_squared_error, r2_score\n",
    "import matplotlib.pyplot as plt\n",
    "import seaborn as sns"
   ]
  },
  {
   "cell_type": "code",
   "execution_count": 5,
   "id": "2b1d4d1f",
   "metadata": {},
   "outputs": [],
   "source": [
    "\n",
    "data = pd.read_excel('cleaned_excel_level_5_with_metadata.xlsx')"
   ]
  },
  {
   "cell_type": "code",
   "execution_count": 6,
   "id": "a8c3c817",
   "metadata": {},
   "outputs": [
    {
     "name": "stdout",
     "output_type": "stream",
     "text": [
      "0\n"
     ]
    }
   ],
   "source": [
    "data = data.drop(columns=['sample_ID'])\n",
    "\n",
    "###jC\n",
    "\n",
    "print(data.isnull().sum().sum()) \n"
   ]
  },
  {
   "cell_type": "code",
   "execution_count": 7,
   "id": "90ee8e1a",
   "metadata": {},
   "outputs": [],
   "source": [
    "#separatingg cat and con\n",
    "continuous_features = data.drop(columns=['RFI', 'DNA_Batch', 'Farm_Code'])\n",
    "categorical_features = data[['DNA_Batch', 'Farm_Code']]"
   ]
  },
  {
   "cell_type": "code",
   "execution_count": null,
   "id": "9a7140fe",
   "metadata": {},
   "outputs": [],
   "source": []
  },
  {
   "cell_type": "markdown",
   "id": "8ba0924b",
   "metadata": {},
   "source": [
    "# Log trans"
   ]
  },
  {
   "cell_type": "code",
   "execution_count": 8,
   "id": "dfdf7374",
   "metadata": {},
   "outputs": [
    {
     "name": "stdout",
     "output_type": "stream",
     "text": [
      "\n",
      "Transformed features summary:\n",
      "       1-14-0-10-45-34    172606-1  2-02-FULL-51-18  2013-40CM-41-45  \\\n",
      "count       526.000000  526.000000       526.000000       526.000000   \n",
      "mean          0.000135    0.001609         0.000015         0.000012   \n",
      "std           0.001599    0.013384         0.000354         0.000273   \n",
      "min           0.000000    0.000000         0.000000         0.000000   \n",
      "25%           0.000000    0.000000         0.000000         0.000000   \n",
      "50%           0.000000    0.000000         0.000000         0.000000   \n",
      "75%           0.000000    0.000000         0.000000         0.000000   \n",
      "max           0.028534    0.251701         0.008117         0.006256   \n",
      "\n",
      "       20CM-2-55-15  40CM-4-68-19        70-9         A4b  Abditibacteriaceae  \\\n",
      "count    526.000000    526.000000  526.000000  526.000000          526.000000   \n",
      "mean       0.000076      0.000024    0.001428    0.001221            0.001225   \n",
      "std        0.000790      0.000541    0.006845    0.009772            0.009210   \n",
      "min        0.000000      0.000000    0.000000    0.000000            0.000000   \n",
      "25%        0.000000      0.000000    0.000000    0.000000            0.000000   \n",
      "50%        0.000000      0.000000    0.000000    0.000000            0.000000   \n",
      "75%        0.000000      0.000000    0.000000    0.000000            0.000000   \n",
      "max        0.009746      0.012399    0.098966    0.193481            0.131997   \n",
      "\n",
      "       Acetivibrionaceae  ...  Xanthobacteraceae_503485  \\\n",
      "count         526.000000  ...                526.000000   \n",
      "mean            0.000407  ...                  0.016548   \n",
      "std             0.007171  ...                  0.040935   \n",
      "min             0.000000  ...                  0.000000   \n",
      "25%             0.000000  ...                  0.000000   \n",
      "50%             0.000000  ...                  0.000000   \n",
      "75%             0.000000  ...                  0.019846   \n",
      "max             0.161301  ...                  0.488208   \n",
      "\n",
      "       Xanthomonadaceae_616009  Xanthomonadaceae_616012  Xenobiaceae  \\\n",
      "count               526.000000               526.000000   526.000000   \n",
      "mean                  0.094552                 0.000046     0.000189   \n",
      "std                   0.147051                 0.000742     0.001852   \n",
      "min                   0.000000                 0.000000     0.000000   \n",
      "25%                   0.019473                 0.000000     0.000000   \n",
      "50%                   0.055095                 0.000000     0.000000   \n",
      "75%                   0.109783                 0.000000     0.000000   \n",
      "max                   1.821065                 0.012376     0.027376   \n",
      "\n",
      "       Xiphinematobacteraceae  Xylanivirgaceae  YIM-B00363   ZCTH02-B6  \\\n",
      "count              526.000000       526.000000  526.000000  526.000000   \n",
      "mean                 0.000038         0.001107    0.000159    0.002389   \n",
      "std                  0.000649         0.007000    0.002113    0.017417   \n",
      "min                  0.000000         0.000000    0.000000    0.000000   \n",
      "25%                  0.000000         0.000000    0.000000    0.000000   \n",
      "50%                  0.000000         0.000000    0.000000    0.000000   \n",
      "75%                  0.000000         0.000000    0.000000    0.000000   \n",
      "max                  0.013343         0.133196    0.041846    0.347277   \n",
      "\n",
      "       Zhaonellaceae  other_families  \n",
      "count     526.000000      526.000000  \n",
      "mean        0.000051        0.575211  \n",
      "std         0.000692        0.403602  \n",
      "min         0.000000        0.000000  \n",
      "25%         0.000000        0.308642  \n",
      "50%         0.000000        0.481957  \n",
      "75%         0.000000        0.737767  \n",
      "max         0.011418        3.349590  \n",
      "\n",
      "[8 rows x 647 columns]\n"
     ]
    }
   ],
   "source": [
    "# i dont need to log transform targ\n",
    "continuous_features = continuous_features.applymap(lambda x: np.log1p(x))\n",
    "\n",
    "#Jc\n",
    "print(\"\\nTransformed features summary:\")\n",
    "print(continuous_features.describe())"
   ]
  },
  {
   "cell_type": "code",
   "execution_count": 9,
   "id": "4551676e",
   "metadata": {},
   "outputs": [],
   "source": [
    "#cat col one hot \n",
    "categorical_features = pd.get_dummies(categorical_features, drop_first=True)\n",
    "\n",
    "#combining both feats cata nd con\n",
    "features = pd.concat([continuous_features, categorical_features], axis=1)"
   ]
  },
  {
   "cell_type": "markdown",
   "id": "edf438b9",
   "metadata": {},
   "source": [
    "# standard before PCA"
   ]
  },
  {
   "cell_type": "code",
   "execution_count": 10,
   "id": "6ac8216f",
   "metadata": {},
   "outputs": [],
   "source": [
    "scaler = StandardScaler()\n",
    "X_scaled = scaler.fit_transform(features)\n",
    "\n",
    "#xtr ther y too into the df\n",
    "y = data['RFI']"
   ]
  },
  {
   "cell_type": "markdown",
   "id": "629e1039",
   "metadata": {},
   "source": [
    "# les do PCA .95"
   ]
  },
  {
   "cell_type": "code",
   "execution_count": 11,
   "id": "d2915fca",
   "metadata": {},
   "outputs": [
    {
     "name": "stdout",
     "output_type": "stream",
     "text": [
      "Reduced feature shape: (526, 205)\n"
     ]
    }
   ],
   "source": [
    "from sklearn.decomposition import PCA\n",
    "\n",
    "pca = PCA(n_components=0.95)  \n",
    "X_reduced = pca.fit_transform(X_scaled)\n",
    "\n",
    "#Jc the colum\n",
    "print(f\"Reduced feature shape: {X_reduced.shape}\")  "
   ]
  },
  {
   "cell_type": "markdown",
   "id": "41752bca",
   "metadata": {},
   "source": [
    "# RF fit and predict "
   ]
  },
  {
   "cell_type": "code",
   "execution_count": 12,
   "id": "cce8b653",
   "metadata": {},
   "outputs": [
    {
     "name": "stdout",
     "output_type": "stream",
     "text": [
      "\n",
      "Training the Random Forest Regressor...\n",
      "\n",
      "Random Forest Regression -- R^2 Score: 0.3660, RMSE: 2.3608\n"
     ]
    }
   ],
   "source": [
    "#80 train split\n",
    "X_train, X_test, y_train, y_test = train_test_split(X_reduced, y, test_size=0.2, random_state=1)\n",
    "\n",
    "\n",
    "rf = RandomForestRegressor(n_estimators=100, random_state=1, n_jobs=-1)\n",
    "\n",
    "#model\n",
    "print(\"\\nTraining the Random Forest Regressor...\")\n",
    "rf.fit(X_train, y_train)\n",
    "\n",
    "\n",
    "y_pred = rf.predict(X_test)\n",
    "\n",
    "# acc check\n",
    "r2 = r2_score(y_test, y_pred)\n",
    "rmse = np.sqrt(mean_squared_error(y_test, y_pred))\n",
    "\n",
    "print(f\"\\nRandom Forest Regression -- R^2 Score: {r2:.4f}, RMSE: {rmse:.4f}\")\n"
   ]
  },
  {
   "cell_type": "markdown",
   "id": "17f592e3",
   "metadata": {},
   "source": [
    "# now tuning with RSearch"
   ]
  },
  {
   "cell_type": "code",
   "execution_count": 13,
   "id": "be01cab8",
   "metadata": {},
   "outputs": [
    {
     "name": "stdout",
     "output_type": "stream",
     "text": [
      "\n",
      "lessssss startttttt searchinggg :D\n",
      "Fitting 5 folds for each of 500 candidates, totalling 2500 fits\n",
      "[CV] END bootstrap=False, max_depth=45, max_features=log2, min_samples_leaf=10, min_samples_split=5, n_estimators=226; total time=   2.2s\n",
      "[CV] END bootstrap=False, max_depth=25, max_features=log2, min_samples_leaf=1, min_samples_split=9, n_estimators=196; total time=   5.1s\n",
      "[CV] END bootstrap=True, max_depth=33, max_features=None, min_samples_leaf=19, min_samples_split=12, n_estimators=236; total time=   2.6s\n",
      "[CV] END bootstrap=True, max_depth=49, max_features=sqrt, min_samples_leaf=1, min_samples_split=18, n_estimators=375; total time=   2.4s\n",
      "[CV] END bootstrap=True, max_depth=47, max_features=None, min_samples_leaf=10, min_samples_split=11, n_estimators=541; total time=   8.0s\n",
      "[CV] END bootstrap=False, max_depth=32, max_features=None, min_samples_leaf=14, min_samples_split=13, n_estimators=274; total time=   3.8s\n",
      "[CV] END bootstrap=True, max_depth=23, max_features=sqrt, min_samples_leaf=19, min_samples_split=19, n_estimators=838; total time=   2.2s\n",
      "[CV] END bootstrap=True, max_depth=12, max_features=auto, min_samples_leaf=15, min_samples_split=6, n_estimators=126; total time=   0.0s\n",
      "[CV] END bootstrap=True, max_depth=12, max_features=auto, min_samples_leaf=15, min_samples_split=6, n_estimators=126; total time=   0.0s\n",
      "[CV] END bootstrap=True, max_depth=12, max_features=auto, min_samples_leaf=15, min_samples_split=6, n_estimators=126; total time=   0.0s\n",
      "[CV] END bootstrap=True, max_depth=12, max_features=auto, min_samples_leaf=15, min_samples_split=6, n_estimators=126; total time=   0.0s\n",
      "[CV] END bootstrap=True, max_depth=6, max_features=auto, min_samples_leaf=3, min_samples_split=6, n_estimators=788; total time=   0.0s\n",
      "[CV] END bootstrap=True, max_depth=6, max_features=auto, min_samples_leaf=3, min_samples_split=6, n_estimators=788; total time=   0.0s\n",
      "[CV] END bootstrap=True, max_depth=23, max_features=sqrt, min_samples_leaf=12, min_samples_split=13, n_estimators=477; total time=   4.5s\n",
      "[CV] END bootstrap=True, max_depth=6, max_features=None, min_samples_leaf=8, min_samples_split=15, n_estimators=227; total time=   4.1s\n",
      "[CV] END bootstrap=True, max_depth=6, max_features=auto, min_samples_leaf=6, min_samples_split=9, n_estimators=212; total time=   0.0s\n",
      "[CV] END bootstrap=True, max_depth=6, max_features=auto, min_samples_leaf=6, min_samples_split=9, n_estimators=212; total time=   0.0s\n",
      "[CV] END bootstrap=True, max_depth=37, max_features=None, min_samples_leaf=10, min_samples_split=7, n_estimators=101; total time=   2.5s\n",
      "[CV] END bootstrap=False, max_depth=24, max_features=None, min_samples_leaf=9, min_samples_split=15, n_estimators=432; total time=   5.6s\n",
      "[CV] END bootstrap=False, max_depth=22, max_features=log2, min_samples_leaf=1, min_samples_split=9, n_estimators=897; total time=   2.9s\n",
      "[CV] END bootstrap=True, max_depth=25, max_features=None, min_samples_leaf=17, min_samples_split=15, n_estimators=142; total time=   4.2s\n",
      "[CV] END bootstrap=False, max_depth=7, max_features=None, min_samples_leaf=5, min_samples_split=19, n_estimators=249; total time=   6.3s\n",
      "[CV] END bootstrap=False, max_depth=34, max_features=None, min_samples_leaf=11, min_samples_split=12, n_estimators=684; total time=   9.5s\n",
      "[CV] END bootstrap=True, max_depth=17, max_features=log2, min_samples_leaf=15, min_samples_split=16, n_estimators=848; total time=   4.6s\n",
      "[CV] END bootstrap=True, max_depth=39, max_features=None, min_samples_leaf=19, min_samples_split=8, n_estimators=942; total time=  10.8s\n",
      "[CV] END bootstrap=False, max_depth=35, max_features=auto, min_samples_leaf=18, min_samples_split=16, n_estimators=258; total time=   0.0s\n",
      "[CV] END bootstrap=False, max_depth=35, max_features=auto, min_samples_leaf=18, min_samples_split=16, n_estimators=258; total time=   0.0s\n",
      "[CV] END bootstrap=False, max_depth=35, max_features=auto, min_samples_leaf=18, min_samples_split=16, n_estimators=258; total time=   0.0s\n",
      "[CV] END bootstrap=False, max_depth=35, max_features=auto, min_samples_leaf=18, min_samples_split=16, n_estimators=258; total time=   0.0s\n",
      "[CV] END bootstrap=False, max_depth=35, max_features=auto, min_samples_leaf=18, min_samples_split=16, n_estimators=258; total time=   0.0s\n",
      "[CV] END bootstrap=True, max_depth=26, max_features=auto, min_samples_leaf=8, min_samples_split=4, n_estimators=909; total time=   0.0s\n",
      "[CV] END bootstrap=True, max_depth=26, max_features=auto, min_samples_leaf=8, min_samples_split=4, n_estimators=909; total time=   0.0s\n",
      "[CV] END bootstrap=True, max_depth=26, max_features=auto, min_samples_leaf=8, min_samples_split=4, n_estimators=909; total time=   0.0s\n",
      "[CV] END bootstrap=True, max_depth=26, max_features=auto, min_samples_leaf=8, min_samples_split=4, n_estimators=909; total time=   0.0s\n",
      "[CV] END bootstrap=True, max_depth=26, max_features=auto, min_samples_leaf=8, min_samples_split=4, n_estimators=909; total time=   0.0s\n",
      "[CV] END bootstrap=False, max_depth=18, max_features=log2, min_samples_leaf=12, min_samples_split=15, n_estimators=934; total time=   2.4s\n",
      "[CV] END bootstrap=True, max_depth=20, max_features=log2, min_samples_leaf=6, min_samples_split=10, n_estimators=778; total time=   3.7s\n",
      "[CV] END bootstrap=False, max_depth=35, max_features=sqrt, min_samples_leaf=11, min_samples_split=7, n_estimators=648; total time=   4.0s\n",
      "[CV] END bootstrap=False, max_depth=17, max_features=sqrt, min_samples_leaf=12, min_samples_split=17, n_estimators=323; total time=   2.0s\n",
      "[CV] END bootstrap=False, max_depth=6, max_features=None, min_samples_leaf=17, min_samples_split=15, n_estimators=620; total time=   5.9s\n",
      "[CV] END bootstrap=True, max_depth=27, max_features=log2, min_samples_leaf=10, min_samples_split=2, n_estimators=704; total time=   3.5s\n",
      "[CV] END bootstrap=True, max_depth=30, max_features=sqrt, min_samples_leaf=1, min_samples_split=11, n_estimators=562; total time=   4.4s\n",
      "[CV] END bootstrap=False, max_depth=27, max_features=auto, min_samples_leaf=9, min_samples_split=19, n_estimators=973; total time=   0.0s\n",
      "[CV] END bootstrap=False, max_depth=27, max_features=auto, min_samples_leaf=9, min_samples_split=19, n_estimators=973; total time=   0.0s\n",
      "[CV] END bootstrap=False, max_depth=27, max_features=auto, min_samples_leaf=9, min_samples_split=19, n_estimators=973; total time=   0.0s\n",
      "[CV] END bootstrap=False, max_depth=27, max_features=auto, min_samples_leaf=9, min_samples_split=19, n_estimators=973; total time=   0.0s\n",
      "[CV] END bootstrap=False, max_depth=27, max_features=auto, min_samples_leaf=9, min_samples_split=19, n_estimators=973; total time=   0.0s\n",
      "[CV] END bootstrap=True, max_depth=24, max_features=auto, min_samples_leaf=8, min_samples_split=7, n_estimators=589; total time=   0.0s\n",
      "[CV] END bootstrap=True, max_depth=24, max_features=auto, min_samples_leaf=8, min_samples_split=7, n_estimators=589; total time=   0.0s\n",
      "[CV] END bootstrap=True, max_depth=24, max_features=auto, min_samples_leaf=8, min_samples_split=7, n_estimators=589; total time=   0.0s\n",
      "[CV] END bootstrap=True, max_depth=24, max_features=auto, min_samples_leaf=8, min_samples_split=7, n_estimators=589; total time=   0.0s\n",
      "[CV] END bootstrap=True, max_depth=24, max_features=auto, min_samples_leaf=8, min_samples_split=7, n_estimators=589; total time=   0.0s\n",
      "[CV] END bootstrap=False, max_depth=42, max_features=log2, min_samples_leaf=17, min_samples_split=2, n_estimators=858; total time=   2.4s\n",
      "[CV] END bootstrap=False, max_depth=22, max_features=None, min_samples_leaf=10, min_samples_split=14, n_estimators=213; total time=   3.3s\n",
      "[CV] END bootstrap=False, max_depth=46, max_features=auto, min_samples_leaf=17, min_samples_split=14, n_estimators=156; total time=   0.0s\n",
      "[CV] END bootstrap=True, max_depth=45, max_features=log2, min_samples_leaf=17, min_samples_split=8, n_estimators=286; total time=   1.5s\n",
      "[CV] END bootstrap=False, max_depth=23, max_features=log2, min_samples_leaf=16, min_samples_split=6, n_estimators=928; total time=   2.6s\n",
      "[CV] END bootstrap=True, max_depth=27, max_features=sqrt, min_samples_leaf=8, min_samples_split=4, n_estimators=840; total time=   2.2s\n",
      "[CV] END bootstrap=False, max_depth=45, max_features=log2, min_samples_leaf=17, min_samples_split=17, n_estimators=544; total time=   1.3s\n"
     ]
    },
    {
     "name": "stderr",
     "output_type": "stream",
     "text": [
      "/apps/eb/Anaconda3/2023.09-0/lib/python3.11/site-packages/sklearn/model_selection/_validation.py:425: FitFailedWarning: \n",
      "620 fits failed out of a total of 2500.\n",
      "The score on these train-test partitions for these parameters will be set to nan.\n",
      "If these failures are not expected, you can try to debug them by setting error_score='raise'.\n",
      "\n",
      "Below are more details about the failures:\n",
      "--------------------------------------------------------------------------------\n",
      "333 fits failed with the following error:\n",
      "Traceback (most recent call last):\n",
      "  File \"/apps/eb/Anaconda3/2023.09-0/lib/python3.11/site-packages/sklearn/model_selection/_validation.py\", line 732, in _fit_and_score\n",
      "    estimator.fit(X_train, y_train, **fit_params)\n",
      "  File \"/apps/eb/Anaconda3/2023.09-0/lib/python3.11/site-packages/sklearn/base.py\", line 1144, in wrapper\n",
      "    estimator._validate_params()\n",
      "  File \"/apps/eb/Anaconda3/2023.09-0/lib/python3.11/site-packages/sklearn/base.py\", line 637, in _validate_params\n",
      "    validate_parameter_constraints(\n",
      "  File \"/apps/eb/Anaconda3/2023.09-0/lib/python3.11/site-packages/sklearn/utils/_param_validation.py\", line 95, in validate_parameter_constraints\n",
      "    raise InvalidParameterError(\n",
      "sklearn.utils._param_validation.InvalidParameterError: The 'max_features' parameter of RandomForestRegressor must be an int in the range [1, inf), a float in the range (0.0, 1.0], a str among {'log2', 'sqrt'} or None. Got 'auto' instead.\n",
      "\n",
      "--------------------------------------------------------------------------------\n",
      "287 fits failed with the following error:\n",
      "Traceback (most recent call last):\n",
      "  File \"/apps/eb/Anaconda3/2023.09-0/lib/python3.11/site-packages/sklearn/model_selection/_validation.py\", line 732, in _fit_and_score\n",
      "    estimator.fit(X_train, y_train, **fit_params)\n",
      "  File \"/apps/eb/Anaconda3/2023.09-0/lib/python3.11/site-packages/sklearn/base.py\", line 1144, in wrapper\n",
      "    estimator._validate_params()\n",
      "  File \"/apps/eb/Anaconda3/2023.09-0/lib/python3.11/site-packages/sklearn/base.py\", line 637, in _validate_params\n",
      "    validate_parameter_constraints(\n",
      "  File \"/apps/eb/Anaconda3/2023.09-0/lib/python3.11/site-packages/sklearn/utils/_param_validation.py\", line 95, in validate_parameter_constraints\n",
      "    raise InvalidParameterError(\n",
      "sklearn.utils._param_validation.InvalidParameterError: The 'max_features' parameter of RandomForestRegressor must be an int in the range [1, inf), a float in the range (0.0, 1.0], a str among {'sqrt', 'log2'} or None. Got 'auto' instead.\n",
      "\n",
      "  warnings.warn(some_fits_failed_message, FitFailedWarning)\n",
      "/apps/eb/Anaconda3/2023.09-0/lib/python3.11/site-packages/sklearn/model_selection/_search.py:976: UserWarning: One or more of the test scores are non-finite: [        nan         nan  0.25379593         nan  0.28511985  0.29392571\n",
      "         nan  0.32454909         nan  0.24486028  0.32399896  0.24058912\n",
      " -0.1073368   0.18526105 -0.08653897  0.26689406  0.2199733  -0.12682583\n",
      " -0.18507986  0.25878317         nan         nan         nan  0.32272397\n",
      "  0.21855198  0.26136862  0.2335211   0.25506988  0.26126056  0.19315364\n",
      "  0.24541016         nan         nan  0.19685929  0.22484832  0.28496621\n",
      "  0.3069459          nan         nan  0.19088025  0.25901486         nan\n",
      "  0.25165288  0.10406659         nan  0.25204348  0.20794374  0.18572166\n",
      "  0.25818097  0.08894661  0.18949908  0.18836732  0.30679901  0.02675319\n",
      "         nan  0.24776584  0.27059854  0.31382813         nan  0.19635704\n",
      "  0.28965468  0.31441423         nan  0.19985851  0.28401648         nan\n",
      "         nan  0.28307781  0.22465602         nan  0.31928138  0.3255992\n",
      "  0.25953886  0.32256778  0.22499138         nan         nan  0.24375208\n",
      "  0.22799167         nan  0.22637601         nan  0.23827336         nan\n",
      "  0.02675319  0.28973837  0.23798068  0.18447    -0.13840384  0.25567548\n",
      "  0.04183871 -0.21230255  0.2646663   0.20396868  0.25974582  0.31774919\n",
      " -0.12682583  0.3269075   0.24008894  0.22108252  0.26805276  0.31403471\n",
      "  0.32238559  0.22948559  0.24058469  0.25199029         nan         nan\n",
      "  0.23794783         nan  0.32726448  0.25304358  0.22097336  0.29581981\n",
      "  0.25538811  0.22171705 -0.25386597  0.26513238         nan  0.26384566\n",
      "  0.23364445         nan  0.31393116 -0.18361303  0.21432872  0.25619624\n",
      "  0.24598889  0.2661199   0.3189144  -0.09021733  0.20313077         nan\n",
      "         nan  0.27321656         nan  0.22343424         nan         nan\n",
      "         nan -0.07433192  0.22079357 -0.25164693  0.28447988  0.23877865\n",
      "  0.28566135         nan  0.31210586  0.21878453  0.22769079  0.28526562\n",
      "  0.24106231 -0.13840384         nan  0.31366702  0.29005084  0.28097471\n",
      "  0.25060623  0.21943826  0.27182842 -0.25431148  0.03124217  0.10406659\n",
      "         nan  0.21255561  0.19480066  0.21691308  0.27198802  0.21667274\n",
      "  0.26364822         nan  0.25413922  0.29329996  0.29115075  0.31412512\n",
      "         nan -0.11187992  0.23275289  0.24567489         nan  0.30956279\n",
      "         nan  0.21175287         nan -0.10732023  0.24053112  0.20603386\n",
      "  0.04183871         nan  0.21961998         nan  0.2543468   0.3261268\n",
      "  0.21216553 -0.18525167 -0.11120953         nan  0.2267498   0.26644606\n",
      "  0.32271808  0.25563048         nan  0.28338262 -0.11199468  0.25563672\n",
      " -0.25266151  0.27577852  0.26732147  0.26299411  0.23041303 -0.08653897\n",
      "  0.24456952  0.25197184         nan         nan  0.21607399  0.23927276\n",
      "  0.31298829 -0.08545461  0.21310895         nan -0.14631623  0.23364027\n",
      "  0.20699297  0.2857947   0.19381322  0.32381            nan         nan\n",
      "         nan  0.23731606  0.23887932  0.1907923   0.22628578  0.19788689\n",
      "  0.21571482  0.32547543  0.19353669         nan  0.27861135  0.32164423\n",
      "         nan  0.31551091  0.26775285         nan  0.21980611         nan\n",
      "         nan         nan  0.28361505         nan  0.19294543         nan\n",
      "  0.32452015         nan  0.28881389  0.26356099 -0.20553881 -0.21117472\n",
      "         nan  0.31406015  0.23621845  0.28748038  0.18452362  0.20381047\n",
      "  0.24623507  0.31665159  0.08894661  0.30900898  0.22538156         nan\n",
      "  0.2104838   0.32706194         nan         nan         nan  0.25809108\n",
      "  0.28435837         nan         nan  0.22815293  0.31313534  0.22935494\n",
      "  0.02675319  0.25073084  0.24793533  0.26493217  0.23605187  0.11147659\n",
      " -0.16685051  0.30692544  0.23609345  0.21305952  0.3152058   0.25121984\n",
      "  0.22964663         nan         nan  0.23659168  0.25560893  0.3130653\n",
      "  0.28276293         nan  0.06706791  0.11147659  0.22352477         nan\n",
      "         nan  0.31619072  0.23733947  0.28813541  0.31379183  0.19615655\n",
      "  0.26313774  0.27150201  0.03337269  0.31163395  0.06706791  0.31390014\n",
      "  0.21887713  0.08016078  0.22219203  0.26750968  0.20115011         nan\n",
      "  0.30882877  0.22809119  0.24548108  0.08016078         nan         nan\n",
      "         nan -0.08653897  0.24216365  0.26368542  0.32033144  0.24529235\n",
      "         nan  0.23172907  0.18439668  0.24035435  0.31125592         nan\n",
      "  0.2213297   0.28770475  0.23727786  0.21978161  0.2653146   0.22501758\n",
      "  0.30981279  0.20770488         nan  0.31510651  0.18005438  0.25151474\n",
      " -0.14115964  0.23774127  0.27094204         nan  0.22046383 -0.2522528\n",
      " -0.19312218  0.22317715  0.26438397 -0.09021733  0.19864659  0.26322161\n",
      "  0.26549672  0.27271399  0.23014951  0.23977667         nan  0.31023623\n",
      " -0.13840384  0.31633609         nan  0.257921           nan  0.31612103\n",
      "         nan  0.06706791         nan  0.28097397  0.27901208 -0.26143136\n",
      "         nan  0.18020534         nan  0.22103567  0.23623005  0.04183871\n",
      "         nan         nan  0.22089292  0.23001438  0.26715541  0.24060894\n",
      "         nan  0.08016078 -0.09021733         nan  0.24082698  0.08894661\n",
      "  0.32268398         nan  0.31660293         nan         nan  0.286719\n",
      "         nan         nan -0.09021733  0.10406659  0.18164254  0.20188185\n",
      " -0.09021733  0.21494016  0.28559325         nan  0.18654388  0.06706791\n",
      "         nan  0.24640855  0.22948176  0.25908141         nan         nan\n",
      "  0.22264471         nan  0.28222583         nan  0.32139651         nan\n",
      "  0.04183871  0.22920897         nan         nan  0.28676989  0.25421606\n",
      "  0.31970994         nan  0.31640752  0.25706695  0.10406659  0.2192213\n",
      "         nan  0.28937503  0.28926363  0.32297468  0.22903703  0.22573075\n",
      "  0.21890444 -0.25190323  0.27580217  0.2577514   0.32024033 -0.25367145\n",
      "         nan  0.32592574  0.32059567         nan         nan  0.25734389\n",
      "  0.31371255  0.18305231  0.26073371  0.21498797  0.32721902         nan\n",
      "         nan         nan  0.3206352   0.32522237  0.26581367  0.10406659\n",
      "  0.28052158  0.23290345  0.19332179  0.31435258  0.26739404  0.25885599\n",
      "  0.04183871  0.31432828  0.2787113   0.31693652  0.18233879  0.31854574\n",
      "  0.22265491         nan         nan         nan         nan  0.30866331\n",
      "  0.03124217  0.25611146  0.31334511         nan         nan -0.11191275\n",
      "         nan         nan]\n",
      "  warnings.warn(\n",
      "/apps/eb/Anaconda3/2023.09-0/lib/python3.11/site-packages/sklearn/model_selection/_search.py:976: UserWarning: One or more of the train scores are non-finite: [       nan        nan 0.55215759        nan 0.91860405 0.99517713\n",
      "        nan 0.85130885        nan 0.56615182 0.85022113 0.68691714\n",
      " 0.83128519 0.40212187 0.68136877 0.63246215 0.60313101 0.75864041\n",
      " 0.87559949 0.58418643        nan        nan        nan 0.82465925\n",
      " 0.60224988 0.56634679 0.48608121 0.96491999 0.56752331 0.43045399\n",
      " 0.75479857        nan        nan 0.43149342 0.73103046 0.86273008\n",
      " 0.53906665        nan        nan 0.41416766 0.60213302        nan\n",
      " 0.62728128 0.54824698        nan 0.62283982 0.5150286  0.38707908\n",
      " 0.69861432 0.5718406  0.41367432 0.40015728 0.5395215  0.63176901\n",
      "        nan 0.75436421 0.68946909 0.65209754        nan 0.44703551\n",
      " 0.91690057 0.69527546        nan 0.48999476 0.83278567        nan\n",
      "        nan 0.7901141  0.56202343        nan 0.76993455 0.85099488\n",
      " 0.99957073 0.79780207 0.44076297        nan        nan 0.68831054\n",
      " 0.56480429        nan 0.68820996        nan 0.65858633        nan\n",
      " 0.63176901 0.91671454 0.65825501 0.38637437 0.73005545 0.83659837\n",
      " 0.61857372 0.90491873 0.84619088 0.49094385 0.88138349 0.7437888\n",
      " 0.75864041 0.87707829 0.6086294  0.41637142 0.6888734  0.6526129\n",
      " 0.79782113 0.58539199 0.71916767 0.86103807        nan        nan\n",
      " 0.52315355        nan 0.8558146  0.62366539 0.4163663  0.99520384\n",
      " 0.6572298  0.42853456 0.94878395 0.84510842        nan 0.62052926\n",
      " 0.4867555         nan 0.7348263  0.81609501 0.49713894 0.6862502\n",
      " 0.59419332 0.76268629 0.76998724 0.69763456 0.49176845        nan\n",
      "        nan 0.71586935        nan 0.56661035        nan        nan\n",
      "        nan 0.68055243 0.60392255 0.88039319 0.84300284 0.50528836\n",
      " 0.84271852        nan 0.69003418 0.51228357 0.56474834 0.87637015\n",
      " 0.68652286 0.73005545        nan 0.6950727  0.89791083 0.77514499\n",
      " 0.59568492 0.52830224 0.68846659 0.87298569 0.65302714 0.54824698\n",
      "        nan 0.56898273 0.44746176 0.54593634 0.68531871 0.51281889\n",
      " 0.9654689         nan 0.55187844 0.88637744 0.96725755 0.65276303\n",
      "        nan 0.79321328 0.72724149 0.71867119        nan 0.56554665\n",
      "        nan 0.54113495        nan 0.83128519 0.5927789  0.51427513\n",
      " 0.61857372        nan 0.60276685        nan 0.55150329 0.90409126\n",
      " 0.49691816 0.87559949 0.76140378        nan 0.68797503 0.64201174\n",
      " 0.79852722 0.96582302        nan 0.80518678 0.79321328 0.66857014\n",
      " 0.92235514 0.7442452  0.74103253 0.99958506 0.45486828 0.68136877\n",
      " 0.75464717 0.80677825        nan        nan 0.51345881 0.60808316\n",
      " 0.65266294 0.77032727 0.49655488        nan 0.80657425 0.48621171\n",
      " 0.51383127 0.88002488 0.43027923 0.80148045        nan        nan\n",
      "        nan 0.65802985 0.52325594 0.4294285  0.67204494 0.54515273\n",
      " 0.66131491 0.85134562 0.44705811        nan 0.805882   0.75290674\n",
      "        nan 0.63217646 0.78457684        nan 0.52816649        nan\n",
      "        nan        nan 0.85601692        nan 0.41541326        nan\n",
      " 0.84315546        nan 0.95115024 0.62013982 0.82900746 0.91231993\n",
      "        nan 0.67322664 0.6578423  0.91684926 0.38660385 0.49081896\n",
      " 0.56583249 0.74321676 0.5718406  0.53937812 0.42788739        nan\n",
      " 0.54090395 0.84125633        nan        nan        nan 0.71039773\n",
      " 0.84267718        nan        nan 0.73793961 0.69419491 0.58533076\n",
      " 0.63176901 0.59565316 0.56949252 0.71549537 0.85332944 0.52471089\n",
      " 0.7836095  0.55245967 0.6577275  0.54099946 0.71755964 0.63345629\n",
      " 0.58542758        nan        nan 0.63216638 0.96578766 0.67320563\n",
      " 0.85391874        nan 0.58931984 0.52471089 0.64300613        nan\n",
      "        nan 0.74361035 0.52254052 0.95163497 0.61525537 0.44621711\n",
      " 0.80140103 0.71599437 0.63283817 0.61499225 0.58931984 0.59832114\n",
      " 0.68071563 0.55943779 0.54536671 0.68892021 0.48887108        nan\n",
      " 0.53949982 0.45500656 0.75471792 0.55943779        nan        nan\n",
      "        nan 0.68136877 0.65672323 0.99196106 0.76203326 0.57340193\n",
      "        nan 0.45494819 0.38665503 0.68717692 0.59874506        nan\n",
      " 0.55174868 0.8836484  0.83987569 0.60311308 0.98005752 0.44074722\n",
      " 0.67017215 0.51459859        nan 0.63216603 0.36354993 0.82503671\n",
      " 0.7566035  0.63311357 0.8182218         nan 0.60388942 0.94878395\n",
      " 0.88721222 0.42751786 0.78843324 0.69763456 0.43186248 0.62060311\n",
      " 0.788467   0.7433345  0.46988505 0.54476178        nan 0.565879\n",
      " 0.73005545 0.63206486        nan 0.69187493        nan 0.71816093\n",
      "        nan 0.58931984        nan 0.80793676 0.8061479  1.\n",
      "        nan 0.36361836        nan 0.41510503 0.85992768 0.61857372\n",
      "        nan        nan 0.52826095 0.46949236 0.76121898 0.68717595\n",
      "        nan 0.55943779 0.69763456        nan 0.71943447 0.5718406\n",
      " 0.76182732        nan 0.74364101        nan        nan 0.98396473\n",
      "        nan        nan 0.69763456 0.54824698 0.38628224 0.49041517\n",
      " 0.69763456 0.49740228 0.86666427        nan 0.38817416 0.58931984\n",
      "        nan 0.75554994 0.58539319 0.88124897        nan        nan\n",
      " 0.54528958        nan 0.77472925        nan 0.78397736        nan\n",
      " 0.61857372 0.58524076        nan        nan 0.89975108 0.62391278\n",
      " 0.75223401        nan 0.73565072 0.87979319 0.54824698 0.52794127\n",
      "        nan 0.90764296 0.94300471 0.84089261 0.58539309 0.42843413\n",
      " 0.68265655 0.93261455 0.74438695 0.58437638 0.75292583 0.95826236\n",
      "        nan 0.89298313 0.76540808        nan        nan 0.83696441\n",
      " 0.65079333 0.37909095 0.94450682 0.49747768 0.85033779        nan\n",
      "        nan        nan 0.79609696 0.79472202 0.81845068 0.54824698\n",
      " 0.87988221 0.60802095 0.43046998 0.61452357 0.71549252 0.69304155\n",
      " 0.61857372 0.71041789 0.90740944 0.74370688 0.36640635 0.76822574\n",
      " 0.60593084        nan        nan        nan        nan 0.5530055\n",
      " 0.65302714 0.5840373  0.62912955        nan        nan 0.79321328\n",
      "        nan        nan]\n",
      "  warnings.warn(\n"
     ]
    },
    {
     "name": "stdout",
     "output_type": "stream",
     "text": [
      "\n",
      "Optimized Random Forest Regression -- R^2 Score: 0.3678, RMSE: 2.3575\n"
     ]
    }
   ],
   "source": [
    "from sklearn.model_selection import RandomizedSearchCV\n",
    "from scipy.stats import randint\n",
    "\n",
    "#parameter arrrar\n",
    "param_distributions = {\n",
    "    'n_estimators': randint(100, 1000),\n",
    "    'max_depth': randint(5, 50),\n",
    "    'min_samples_split': randint(2, 20),\n",
    "    'min_samples_leaf': randint(1, 20),\n",
    "    'max_features': ['auto', 'sqrt', 'log2', None],\n",
    "    'bootstrap': [True, False],\n",
    "}\n",
    "\n",
    "#rsear\n",
    "random_search = RandomizedSearchCV(\n",
    "    estimator=rf,\n",
    "    param_distributions=param_distributions,\n",
    "    n_iter=500,\n",
    "    cv=5,\n",
    "    n_jobs=-1,\n",
    "    scoring='r2',\n",
    "    verbose=2,\n",
    "    random_state=1,\n",
    "    return_train_score=True  # Ensure train scores are saved\n",
    ")\n",
    "\n",
    "\n",
    "#lets start with 50\n",
    "print(\"\\nlessssss startttttt searchinggg :D\")\n",
    "random_search.fit(X_train, y_train)\n",
    "\n",
    "# best \n",
    "best_rf = random_search.best_estimator_\n",
    "\n",
    "# Evaluate the model\n",
    "y_pred_best = best_rf.predict(X_test)\n",
    "r2_best = r2_score(y_test, y_pred_best)\n",
    "rmse_best = np.sqrt(mean_squared_error(y_test, y_pred_best))\n",
    "\n",
    "print(f\"\\nOptimized Random Forest Regression -- R^2 Score: {r2_best:.4f}, RMSE: {rmse_best:.4f}\")\n"
   ]
  },
  {
   "cell_type": "code",
   "execution_count": 15,
   "id": "5bece83b",
   "metadata": {},
   "outputs": [
    {
     "name": "stdout",
     "output_type": "stream",
     "text": [
      "okey dokey saved\n"
     ]
    }
   ],
   "source": [
    "#sav excel for all combination\n",
    "\n",
    "results_df = pd.DataFrame(random_search.cv_results_)\n",
    "\n",
    "#making sure rmse is included \n",
    "results_df['rmse_test_score'] = np.sqrt(1 - results_df['mean_test_score'])\n",
    "\n",
    "#cols \n",
    "results_df = results_df[['params', 'mean_test_score', 'mean_train_score', 'std_test_score', 'std_train_score', 'rmse_test_score']]\n",
    "\n",
    "###excel\n",
    "results_df.to_excel(\"base_model_with_metadata_logtransformatiuon_stand_PCA_optimization.xlsx\", index=False)\n",
    "print(\"okey dokey saved\")\n",
    "\n"
   ]
  },
  {
   "cell_type": "code",
   "execution_count": 17,
   "id": "5679456e",
   "metadata": {},
   "outputs": [
    {
     "name": "stdout",
     "output_type": "stream",
     "text": [
      "\n",
      "Optimized Random Forest Regression -- R^2 Score: 0.3678, RMSE: 2.3575\n"
     ]
    }
   ],
   "source": [
    "print(f\"\\nOptimized Random Forest Regression -- R^2 Score: {r2_best:.4f}, RMSE: {rmse_best:.4f}\")"
   ]
  },
  {
   "cell_type": "markdown",
   "id": "7b653d59",
   "metadata": {},
   "source": [
    "# Features imp"
   ]
  },
  {
   "cell_type": "code",
   "execution_count": 17,
   "id": "e9e42d3e",
   "metadata": {},
   "outputs": [
    {
     "data": {
      "image/png": "[encoded data removed]",
      "text/plain": [
       "<Figure size 1000x800 with 1 Axes>"
      ]
     },
     "metadata": {},
     "output_type": "display_data"
    }
   ],
   "source": [
    "# imp feat\n",
    "importances = best_rf.feature_importances_\n",
    "indices = np.argsort(importances)[::-1]\n",
    "\n",
    "#les plot top guns\n",
    "plt.figure(figsize=(10, 8))\n",
    "sns.barplot(x=importances[indices[:20]], y=[f'PC{i+1}' for i in indices[:20]])\n",
    "plt.title('Top 20 Feature Importances (Principal Components)')\n",
    "plt.xlabel('Importance')\n",
    "plt.ylabel('Principal Components')\n",
    "plt.tight_layout()\n",
    "plt.show()"
   ]
  },
  {
   "cell_type": "code",
   "execution_count": null,
   "id": "48da0b25",
   "metadata": {},
   "outputs": [],
   "source": []
  }
 ],
 "metadata": {
  "kernelspec": {
   "display_name": "Python 3 (ipykernel)",
   "language": "python",
   "name": "python3"
  },
  "language_info": {
   "codemirror_mode": {
    "name": "ipython",
    "version": 3
   },
   "file_extension": ".py",
   "mimetype": "text/x-python",
   "name": "python",
   "nbconvert_exporter": "python",
   "pygments_lexer": "ipython3",
   "version": "3.11.5"
  }
 },
 "nbformat": 4,
 "nbformat_minor": 5
}
